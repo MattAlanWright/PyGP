{
 "cells": [
  {
   "cell_type": "markdown",
   "metadata": {},
   "source": [
    "# Shuttle Statlog Data Set Classifier - Breeder Model"
   ]
  },
  {
   "cell_type": "code",
   "execution_count": null,
   "metadata": {},
   "outputs": [],
   "source": [
    "from sklearn.model_selection import train_test_split\n",
    "from sklearn.preprocessing import MinMaxScaler, StandardScaler\n",
    "from IPython.display import display, clear_output\n",
    "import matplotlib.pyplot as plt\n",
    "import numpy as np\n",
    "import copy\n",
    "%matplotlib inline"
   ]
  },
  {
   "cell_type": "code",
   "execution_count": null,
   "metadata": {},
   "outputs": [],
   "source": [
    "import GeneticProgram as gp\n",
    "from Statlog import load_statlog\n",
    "from SamplingPolicies import *"
   ]
  },
  {
   "cell_type": "markdown",
   "metadata": {},
   "source": [
    "### Import Data Set"
   ]
  },
  {
   "cell_type": "code",
   "execution_count": null,
   "metadata": {},
   "outputs": [],
   "source": [
    "# Data set already scaled\n",
    "train_X, train_y, test_X, test_y, num_inputs, num_classes = load_statlog()\n",
    "\n",
    "# Create scaler based only on the training set\n",
    "scaler = MinMaxScaler()\n",
    "scaler.fit(train_X)\n",
    "\n",
    "# Scale datasets\n",
    "train_X = scaler.transform(train_X)\n",
    "test_X  = scaler.transform(test_X)"
   ]
  },
  {
   "cell_type": "code",
   "execution_count": null,
   "metadata": {},
   "outputs": [],
   "source": [
    "fu = []"
   ]
  },
  {
   "cell_type": "code",
   "execution_count": null,
   "metadata": {},
   "outputs": [],
   "source": [
    "def breederDisplayCallback(string):\n",
    "    clear_output(wait=True)\n",
    "    display(string)"
   ]
  },
  {
   "cell_type": "code",
   "execution_count": null,
   "metadata": {},
   "outputs": [],
   "source": [
    "template_program = gp.Program(\n",
    "     max_initial_instructions = 128,\n",
    "     num_registers            = 16,\n",
    "     num_inputs               = num_inputs,\n",
    "     mutation_rate            = 0.1,\n",
    "     max_num_instructions     = 512,\n",
    "     num_classes              = num_classes\n",
    ")"
   ]
  },
  {
   "cell_type": "code",
   "execution_count": null,
   "metadata": {},
   "outputs": [],
   "source": [
    "original_gp_uniform_sampling = []\n",
    "\n",
    "for i in range(5):\n",
    "    res = gp.errorMinBreederSelection(p_size                = 100,\n",
    "                                      p_gap                 =  70,\n",
    "                                      tau                   = 200,\n",
    "                                      template_program      = template_program,\n",
    "                                      sampling_policy_class = UniformSamplingPolicy,\n",
    "                                      max_num_generations   = 200,\n",
    "                                      X                     = train_X,\n",
    "                                      y                     = train_y,\n",
    "                                      display_fun           = breederDisplayCallback)\n",
    "\n",
    "    original_gp_uniform_sampling.append(copy.deepcopy(res))"
   ]
  },
  {
   "cell_type": "code",
   "execution_count": null,
   "metadata": {},
   "outputs": [],
   "source": [
    "training_accuracies = []\n",
    "for result in original_gp_uniform_sampling:\n",
    "    training_accuracies.append(result[0].accuracy(train_X, train_y))\n",
    "training_accuracies = np.array(training_accuracies)\n",
    "print(np.median(training_accuracies))"
   ]
  },
  {
   "cell_type": "code",
   "execution_count": null,
   "metadata": {},
   "outputs": [],
   "source": [
    "test_accuracies = []\n",
    "for result in original_gp_uniform_sampling:\n",
    "    test_accuracies.append(result[0].accuracy(test_X, test_y))\n",
    "test_accuracies = np.array(test_accuracies)\n",
    "print(np.median(test_accuracies))"
   ]
  },
  {
   "cell_type": "code",
   "execution_count": null,
   "metadata": {},
   "outputs": [],
   "source": [
    "train_det_rates = []\n",
    "for result in original_gp_uniform_sampling:\n",
    "    train_det_rates.append(result[0].detectionRate(train_X, train_y))\n",
    "train_det_rates = np.array(train_det_rates)\n",
    "print(np.median(train_det_rates))"
   ]
  },
  {
   "cell_type": "code",
   "execution_count": null,
   "metadata": {},
   "outputs": [],
   "source": [
    "test_det_rates = []\n",
    "for result in original_gp_uniform_sampling:\n",
    "    test_det_rates.append(result[0].detectionRate(test_X, test_y))\n",
    "test_det_rates = np.array(test_det_rates)\n",
    "print(np.median(test_det_rates))"
   ]
  },
  {
   "cell_type": "code",
   "execution_count": null,
   "metadata": {},
   "outputs": [],
   "source": [
    "original_gp_class_sampling = []\n",
    "\n",
    "for i in range(5):\n",
    "    res = gp.errorMinBreederSelection(p_size                = 100,\n",
    "                                      p_gap                 =  70,\n",
    "                                      tau                   = 200,\n",
    "                                      template_program      = template_program,\n",
    "                                      sampling_policy_class = ClassUniformSamplingPolicy,\n",
    "                                      max_num_generations   = 200,\n",
    "                                      X                     = train_X,\n",
    "                                      y                     = train_y,\n",
    "                                      display_fun           = breederDisplayCallback)\n",
    "\n",
    "    original_gp_class_sampling.append(copy.deepcopy(res))"
   ]
  },
  {
   "cell_type": "code",
   "execution_count": null,
   "metadata": {},
   "outputs": [],
   "source": [
    "training_accuracies = []\n",
    "for result in original_gp_class_sampling:\n",
    "    training_accuracies.append(result[0].accuracy(train_X, train_y))\n",
    "training_accuracies = np.array(training_accuracies)\n",
    "print(np.median(training_accuracies))"
   ]
  },
  {
   "cell_type": "code",
   "execution_count": null,
   "metadata": {},
   "outputs": [],
   "source": [
    "test_accuracies = []\n",
    "for result in original_gp_class_sampling:\n",
    "    test_accuracies.append(result[0].accuracy(test_X, test_y))\n",
    "test_accuracies = np.array(test_accuracies)\n",
    "print(np.median(test_accuracies))"
   ]
  },
  {
   "cell_type": "code",
   "execution_count": null,
   "metadata": {},
   "outputs": [],
   "source": [
    "train_det_rates = []\n",
    "for result in original_gp_class_sampling:\n",
    "    train_det_rates.append(result[0].detectionRate(train_X, train_y))\n",
    "train_det_rates = np.array(train_det_rates)\n",
    "print(np.median(train_det_rates))"
   ]
  },
  {
   "cell_type": "code",
   "execution_count": null,
   "metadata": {},
   "outputs": [],
   "source": [
    "test_det_rates = []\n",
    "for result in original_gp_class_sampling:\n",
    "    test_det_rates.append(result[0].detectionRate(test_X, test_y))\n",
    "test_det_rates = np.array(test_det_rates)\n",
    "print(np.median(test_det_rates))"
   ]
  },
  {
   "cell_type": "code",
   "execution_count": null,
   "metadata": {},
   "outputs": [],
   "source": [
    "no_sharing_uniform_sampling = []\n",
    "\n",
    "for i in range(5):\n",
    "    res = gp.breederSelection(p_size                = 100,\n",
    "                              p_gap                 =  70,\n",
    "                              tau                   = 200,\n",
    "                              template_program      = template_program,\n",
    "                              sampling_policy_class = UniformSamplingPolicy,\n",
    "                              max_num_generations   = 200,\n",
    "                              X                     = train_X,\n",
    "                              y                     = train_y,\n",
    "                              display_fun           = breederDisplayCallback)\n",
    "\n",
    "    no_sharing_uniform_sampling.append(copy.deepcopy(res))"
   ]
  },
  {
   "cell_type": "code",
   "execution_count": null,
   "metadata": {},
   "outputs": [],
   "source": [
    "fitness_unions = []\n",
    "for result in no_sharing_uniform_sampling:\n",
    "    fitness_unions.append(result[2]['fitness_union'])\n",
    "fitness_unions = np.array(fitness_unions)\n",
    "fig=plt.figure(figsize=(10, 8), dpi= 80, facecolor='w', edgecolor='k')\n",
    "plt.plot(np.median(fitness_unions, axis=0))"
   ]
  },
  {
   "cell_type": "code",
   "execution_count": null,
   "metadata": {},
   "outputs": [],
   "source": [
    "fu.append(np.median(fitness_unions, axis=0))"
   ]
  },
  {
   "cell_type": "code",
   "execution_count": null,
   "metadata": {},
   "outputs": [],
   "source": [
    "training_accuracies = []\n",
    "for result in no_sharing_uniform_sampling:\n",
    "    training_accuracies.append(result[0].accuracy(train_X, train_y))\n",
    "training_accuracies = np.array(training_accuracies)\n",
    "print(np.median(training_accuracies))"
   ]
  },
  {
   "cell_type": "code",
   "execution_count": null,
   "metadata": {},
   "outputs": [],
   "source": [
    "test_accuracies = []\n",
    "for result in no_sharing_uniform_sampling:\n",
    "    test_accuracies.append(result[0].accuracy(test_X, test_y))\n",
    "test_accuracies = np.array(test_accuracies)\n",
    "print(np.median(test_accuracies))"
   ]
  },
  {
   "cell_type": "code",
   "execution_count": null,
   "metadata": {},
   "outputs": [],
   "source": [
    "train_det_rates = []\n",
    "for result in no_sharing_uniform_sampling:\n",
    "    train_det_rates.append(result[0].detectionRate(train_X, train_y))\n",
    "train_det_rates = np.array(train_det_rates)\n",
    "print(np.median(train_det_rates))"
   ]
  },
  {
   "cell_type": "code",
   "execution_count": null,
   "metadata": {},
   "outputs": [],
   "source": [
    "test_det_rates = []\n",
    "for result in no_sharing_uniform_sampling:\n",
    "    test_det_rates.append(result[0].detectionRate(test_X, test_y))\n",
    "test_det_rates = np.array(test_det_rates)\n",
    "print(np.median(test_det_rates))"
   ]
  },
  {
   "cell_type": "code",
   "execution_count": null,
   "metadata": {},
   "outputs": [],
   "source": [
    "no_sharing_class_sampling = []\n",
    "\n",
    "for i in range(5):\n",
    "    res = gp.breederSelection(p_size                = 100,\n",
    "                              p_gap                 =  70,\n",
    "                              tau                   = 200,\n",
    "                              template_program      = template_program,\n",
    "                              sampling_policy_class = ClassUniformSamplingPolicy,\n",
    "                              max_num_generations   = 200,\n",
    "                              X                     = train_X,\n",
    "                              y                     = train_y,\n",
    "                              display_fun           = breederDisplayCallback)\n",
    "\n",
    "    no_sharing_class_sampling.append(copy.deepcopy(res))"
   ]
  },
  {
   "cell_type": "code",
   "execution_count": null,
   "metadata": {},
   "outputs": [],
   "source": [
    "fitness_unions = []\n",
    "for result in no_sharing_class_sampling:\n",
    "    fitness_unions.append(result[2]['fitness_union'])\n",
    "fitness_unions = np.array(fitness_unions)\n",
    "fig=plt.figure(figsize=(10, 8), dpi= 80, facecolor='w', edgecolor='k')\n",
    "plt.plot(np.median(fitness_unions, axis=0))"
   ]
  },
  {
   "cell_type": "code",
   "execution_count": null,
   "metadata": {},
   "outputs": [],
   "source": [
    "fu.append(np.median(fitness_unions, axis=0))"
   ]
  },
  {
   "cell_type": "code",
   "execution_count": null,
   "metadata": {},
   "outputs": [],
   "source": [
    "training_accuracies = []\n",
    "for result in no_sharing_class_sampling:\n",
    "    training_accuracies.append(result[0].accuracy(train_X, train_y))\n",
    "training_accuracies = np.array(training_accuracies)\n",
    "print(np.median(training_accuracies))"
   ]
  },
  {
   "cell_type": "code",
   "execution_count": null,
   "metadata": {},
   "outputs": [],
   "source": [
    "test_accuracies = []\n",
    "for result in no_sharing_class_sampling:\n",
    "    test_accuracies.append(result[0].accuracy(test_X, test_y))\n",
    "test_accuracies = np.array(test_accuracies)\n",
    "print(np.median(test_accuracies))"
   ]
  },
  {
   "cell_type": "code",
   "execution_count": null,
   "metadata": {},
   "outputs": [],
   "source": [
    "train_det_rates = []\n",
    "for result in no_sharing_class_sampling:\n",
    "    train_det_rates.append(result[0].detectionRate(train_X, train_y))\n",
    "train_det_rates = np.array(train_det_rates)\n",
    "print(np.median(train_det_rates))"
   ]
  },
  {
   "cell_type": "code",
   "execution_count": null,
   "metadata": {},
   "outputs": [],
   "source": [
    "test_det_rates = []\n",
    "for result in no_sharing_class_sampling:\n",
    "    test_det_rates.append(result[0].detectionRate(test_X, test_y))\n",
    "test_det_rates = np.array(test_det_rates)\n",
    "print(np.median(test_det_rates))"
   ]
  },
  {
   "cell_type": "code",
   "execution_count": null,
   "metadata": {},
   "outputs": [],
   "source": [
    "fitness_sharing_uniform_sampling = []\n",
    "\n",
    "for i in range(5):\n",
    "    res = gp.fitnessSharingBreederSelection(p_size                = 100,\n",
    "                                            p_gap                 =  70,\n",
    "                                            tau                   = 200,\n",
    "                                            template_program      = template_program,\n",
    "                                            sampling_policy_class = UniformSamplingPolicy,\n",
    "                                            max_num_generations   = 200,\n",
    "                                            X                     = train_X,\n",
    "                                            y                     = train_y,\n",
    "                                            display_fun           = breederDisplayCallback)\n",
    "\n",
    "    fitness_sharing_uniform_sampling.append(copy.deepcopy(res))"
   ]
  },
  {
   "cell_type": "code",
   "execution_count": null,
   "metadata": {},
   "outputs": [],
   "source": [
    "fitness_unions = []\n",
    "for result in fitness_sharing_uniform_sampling:\n",
    "    fitness_unions.append(result[2]['fitness_union'])\n",
    "fitness_unions = np.array(fitness_unions)\n",
    "fig=plt.figure(figsize=(10, 8), dpi= 80, facecolor='w', edgecolor='k')\n",
    "plt.plot(np.median(fitness_unions, axis=0))"
   ]
  },
  {
   "cell_type": "code",
   "execution_count": null,
   "metadata": {},
   "outputs": [],
   "source": [
    "fu.append(np.median(fitness_unions, axis=0))"
   ]
  },
  {
   "cell_type": "code",
   "execution_count": null,
   "metadata": {},
   "outputs": [],
   "source": [
    "training_accuracies = []\n",
    "for result in fitness_sharing_uniform_sampling:\n",
    "    training_accuracies.append(result[0].accuracy(train_X, train_y))\n",
    "training_accuracies = np.array(training_accuracies)\n",
    "print(np.median(training_accuracies))"
   ]
  },
  {
   "cell_type": "code",
   "execution_count": null,
   "metadata": {},
   "outputs": [],
   "source": [
    "test_accuracies = []\n",
    "for result in fitness_sharing_uniform_sampling:\n",
    "    test_accuracies.append(result[0].accuracy(test_X, test_y))\n",
    "test_accuracies = np.array(test_accuracies)\n",
    "print(np.median(test_accuracies))"
   ]
  },
  {
   "cell_type": "code",
   "execution_count": null,
   "metadata": {},
   "outputs": [],
   "source": [
    "train_det_rates = []\n",
    "for result in fitness_sharing_uniform_sampling:\n",
    "    train_det_rates.append(result[0].detectionRate(train_X, train_y))\n",
    "train_det_rates = np.array(train_det_rates)\n",
    "print(np.median(train_det_rates))"
   ]
  },
  {
   "cell_type": "code",
   "execution_count": null,
   "metadata": {},
   "outputs": [],
   "source": [
    "test_det_rates = []\n",
    "for result in fitness_sharing_uniform_sampling:\n",
    "    test_det_rates.append(result[0].detectionRate(test_X, test_y))\n",
    "test_det_rates = np.array(test_det_rates)\n",
    "print(np.median(test_det_rates))"
   ]
  },
  {
   "cell_type": "code",
   "execution_count": null,
   "metadata": {},
   "outputs": [],
   "source": [
    "fitness_sharing_class_sampling = []\n",
    "\n",
    "for i in range(5):\n",
    "    res = gp.fitnessSharingBreederSelection(p_size                = 100,\n",
    "                                            p_gap                 =  70,\n",
    "                                            tau                   = 200,\n",
    "                                            template_program      = template_program,\n",
    "                                            sampling_policy_class = ClassUniformSamplingPolicy,\n",
    "                                            max_num_generations   = 200,\n",
    "                                            X                     = train_X,\n",
    "                                            y                     = train_y,\n",
    "                                            display_fun           = breederDisplayCallback)\n",
    "\n",
    "    fitness_sharing_class_sampling.append(copy.deepcopy(res))"
   ]
  },
  {
   "cell_type": "code",
   "execution_count": null,
   "metadata": {},
   "outputs": [],
   "source": [
    "fitness_unions = []\n",
    "for result in fitness_sharing_class_sampling:\n",
    "    fitness_unions.append(result[2]['fitness_union'])\n",
    "fitness_unions = np.array(fitness_unions)\n",
    "fig=plt.figure(figsize=(10, 8), dpi= 80, facecolor='w', edgecolor='k')\n",
    "plt.plot(np.median(fitness_unions, axis=0))"
   ]
  },
  {
   "cell_type": "code",
   "execution_count": null,
   "metadata": {},
   "outputs": [],
   "source": [
    "fu.append(np.median(fitness_unions, axis=0))"
   ]
  },
  {
   "cell_type": "code",
   "execution_count": null,
   "metadata": {},
   "outputs": [],
   "source": [
    "training_accuracies = []\n",
    "for result in fitness_sharing_class_sampling:\n",
    "    training_accuracies.append(result[0].accuracy(train_X, train_y))\n",
    "training_accuracies = np.array(training_accuracies)\n",
    "print(np.median(training_accuracies))"
   ]
  },
  {
   "cell_type": "code",
   "execution_count": null,
   "metadata": {},
   "outputs": [],
   "source": [
    "test_accuracies = []\n",
    "for result in fitness_sharing_class_sampling:\n",
    "    test_accuracies.append(result[0].accuracy(test_X, test_y))\n",
    "test_accuracies = np.array(test_accuracies)\n",
    "print(np.median(test_accuracies))"
   ]
  },
  {
   "cell_type": "code",
   "execution_count": null,
   "metadata": {},
   "outputs": [],
   "source": [
    "train_det_rates = []\n",
    "for result in fitness_sharing_class_sampling:\n",
    "    train_det_rates.append(result[0].detectionRate(train_X, train_y))\n",
    "train_det_rates = np.array(train_det_rates)\n",
    "print(np.median(train_det_rates))"
   ]
  },
  {
   "cell_type": "code",
   "execution_count": null,
   "metadata": {},
   "outputs": [],
   "source": [
    "test_det_rates = []\n",
    "for result in fitness_sharing_class_sampling:\n",
    "    test_det_rates.append(result[0].detectionRate(test_X, test_y))\n",
    "test_det_rates = np.array(test_det_rates)\n",
    "print(np.median(test_det_rates))"
   ]
  },
  {
   "cell_type": "code",
   "execution_count": null,
   "metadata": {},
   "outputs": [],
   "source": [
    "# Retain copy of results in case I do some tweaking\n",
    "orig_fu = copy.deepcopy(fu)"
   ]
  },
  {
   "cell_type": "code",
   "execution_count": null,
   "metadata": {},
   "outputs": [],
   "source": [
    "fu = np.array(orig_fu)\n",
    "index_skip = 0\n",
    "\n",
    "# Create scaler based only on the training set\n",
    "scaler = StandardScaler() #MinMaxScaler()\n",
    "\n",
    "# Scale datasets\n",
    "fig=plt.figure(figsize=(14, 12), dpi= 80, facecolor='w', edgecolor='k')\n",
    "for f in fu:\n",
    "    scaler.fit(f[index_skip:].reshape(-1, 1))\n",
    "    f = scaler.transform(f[index_skip:].reshape(-1, 1))\n",
    "    plt.plot(f)\n",
    "\n",
    "plt.legend([\n",
    "    'No Fitness Sharing, Uniform Sampling',\n",
    "    'No Fitness Sharing, Class Sampling',\n",
    "    'Fitness Sharing, Uniform Sampling',\n",
    "    'Fitness Sharing, Class Sampling'\n",
    "])\n",
    "plt.show()"
   ]
  },
  {
   "cell_type": "code",
   "execution_count": null,
   "metadata": {},
   "outputs": [],
   "source": []
  }
 ],
 "metadata": {
  "kernelspec": {
   "display_name": "Python 3",
   "language": "python",
   "name": "python3"
  },
  "language_info": {
   "codemirror_mode": {
    "name": "ipython",
    "version": 3
   },
   "file_extension": ".py",
   "mimetype": "text/x-python",
   "name": "python",
   "nbconvert_exporter": "python",
   "pygments_lexer": "ipython3",
   "version": "3.6.8"
  }
 },
 "nbformat": 4,
 "nbformat_minor": 2
}
