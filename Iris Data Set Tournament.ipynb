{
 "cells": [
  {
   "cell_type": "markdown",
   "metadata": {},
   "source": [
    "# Iris Data Set Classifier - Tournament Model"
   ]
  },
  {
   "cell_type": "code",
   "execution_count": 1,
   "metadata": {},
   "outputs": [],
   "source": [
    "from sklearn.datasets import load_iris\n",
    "from sklearn.model_selection import train_test_split\n",
    "from sklearn.preprocessing import MinMaxScaler\n",
    "from IPython.display import display, clear_output\n",
    "import matplotlib.pyplot as plt\n",
    "%matplotlib inline"
   ]
  },
  {
   "cell_type": "code",
   "execution_count": 2,
   "metadata": {},
   "outputs": [],
   "source": [
    "import GeneticProgram as gp"
   ]
  },
  {
   "cell_type": "markdown",
   "metadata": {},
   "source": [
    "### Import Iris Data Set"
   ]
  },
  {
   "cell_type": "code",
   "execution_count": 3,
   "metadata": {},
   "outputs": [],
   "source": [
    "# Data set\n",
    "X, y = load_iris(True)\n",
    "\n",
    "# Split dataset\n",
    "train_X, test_X, train_y, test_y = train_test_split(X, y, shuffle=True, test_size=0.20)\n",
    "\n",
    "# Create scaler based only on the training set\n",
    "scaler = MinMaxScaler()\n",
    "scaler.fit(train_X)\n",
    "\n",
    "# Scale datasets\n",
    "train_X = scaler.transform(train_X)\n",
    "test_X  = scaler.transform(test_X)"
   ]
  },
  {
   "cell_type": "markdown",
   "metadata": {},
   "source": [
    "### Display callback"
   ]
  },
  {
   "cell_type": "code",
   "execution_count": 4,
   "metadata": {},
   "outputs": [],
   "source": [
    "def tournamentDisplayCallback(string):\n",
    "    clear_output(wait=True)\n",
    "    display(string)"
   ]
  },
  {
   "cell_type": "markdown",
   "metadata": {},
   "source": [
    "### Tournament Selection\n",
    "Run three training sessions and take the best performer based on accuracy on the *training set*.\n",
    "Re-do this for three different mutation rates and compare the best performers."
   ]
  },
  {
   "cell_type": "code",
   "execution_count": 5,
   "metadata": {},
   "outputs": [],
   "source": [
    "# Number of experiments to run per mutation rate\n",
    "num_runs = 5"
   ]
  },
  {
   "cell_type": "markdown",
   "metadata": {},
   "source": [
    "#### Mutation Rate = 0.01"
   ]
  },
  {
   "cell_type": "code",
   "execution_count": 6,
   "metadata": {},
   "outputs": [],
   "source": [
    "template_program = gp.Program(\n",
    "     max_initial_instructions = 64,\n",
    "     num_registers            = 8,\n",
    "     num_inputs               = 4,\n",
    "     mutation_rate            = 0.05,\n",
    "     max_num_instructions     = 1024,\n",
    "     num_classes              = 3\n",
    ")"
   ]
  },
  {
   "cell_type": "code",
   "execution_count": 7,
   "metadata": {},
   "outputs": [
    {
     "data": {
      "text/plain": [
       "'Round 1999 - Error 43.711619050286444'"
      ]
     },
     "metadata": {},
     "output_type": "display_data"
    }
   ],
   "source": [
    "programs_01       = []\n",
    "history_01        = []\n",
    "best_accuracy_01  = 0.0\n",
    "best_performer_01 = None\n",
    "for i in range(num_runs):\n",
    "    p, h = gp.tournamentSelection(population_size    = 16,\n",
    "                                 template_program    = template_program,\n",
    "                                 halting_fitness     = 10.0,\n",
    "                                 max_num_generations = 2000,\n",
    "                                 X                   = train_X,\n",
    "                                 y                   = train_y,\n",
    "                                 display_fun         = tournamentDisplayCallback)\n",
    "    \n",
    "    train_acc = p.accuracy(train_X, train_y)\n",
    "    test_acc  = p.accuracy(test_X, test_y)\n",
    "    \n",
    "    h['train_acc'] = train_acc\n",
    "    h['test_acc']  = test_acc\n",
    "    \n",
    "    programs_01.append(p)\n",
    "    history_01.append(h)\n",
    "    \n",
    "    if train_acc > best_accuracy_01 or best_performer_01 == None:\n",
    "        best_accuracy_01  = train_acc\n",
    "        best_performer_01 = i"
   ]
  },
  {
   "cell_type": "code",
   "execution_count": 8,
   "metadata": {},
   "outputs": [
    {
     "data": {
      "text/plain": [
       "0.9416666666666667"
      ]
     },
     "execution_count": 8,
     "metadata": {},
     "output_type": "execute_result"
    }
   ],
   "source": [
    "history_01[best_performer_01]['train_acc']"
   ]
  },
  {
   "cell_type": "code",
   "execution_count": 9,
   "metadata": {},
   "outputs": [
    {
     "data": {
      "text/plain": [
       "0.9666666666666667"
      ]
     },
     "execution_count": 9,
     "metadata": {},
     "output_type": "execute_result"
    }
   ],
   "source": [
    "history_01[best_performer_01]['test_acc']"
   ]
  },
  {
   "cell_type": "code",
   "execution_count": 10,
   "metadata": {},
   "outputs": [
    {
     "data": {
      "image/png": "[encoded data removed]",
      "text/plain": [
       "<Figure size 432x288 with 1 Axes>"
      ]
     },
     "metadata": {
      "needs_background": "light"
     },
     "output_type": "display_data"
    }
   ],
   "source": [
    "for i in range(num_runs):\n",
    "    error = history_01[i]['error']\n",
    "    plt.plot(error)\n",
    "plt.xlabel(\"Iterations\")\n",
    "plt.ylabel(\"Error (Unitless)\")\n",
    "plt.show()"
   ]
  },
  {
   "cell_type": "markdown",
   "metadata": {},
   "source": [
    "#### Mutation Rate = 0.05"
   ]
  },
  {
   "cell_type": "code",
   "execution_count": 11,
   "metadata": {},
   "outputs": [],
   "source": [
    "template_program = gp.Program(\n",
    "     max_initial_instructions = 64,\n",
    "     num_registers            = 8,\n",
    "     num_inputs               = 4,\n",
    "     mutation_rate            = 0.05,\n",
    "     max_num_instructions     = 1024,\n",
    "     num_classes              = 3\n",
    ")"
   ]
  },
  {
   "cell_type": "code",
   "execution_count": 12,
   "metadata": {},
   "outputs": [
    {
     "data": {
      "text/plain": [
       "'Round 1999 - Error 18.602097709890938'"
      ]
     },
     "metadata": {},
     "output_type": "display_data"
    }
   ],
   "source": [
    "programs_05       = []\n",
    "history_05        = []\n",
    "best_accuracy_05  = 0.0\n",
    "best_performer_05 = None\n",
    "for i in range(num_runs):\n",
    "    p, h = gp.tournamentSelection(population_size    = 16,\n",
    "                                 template_program    = template_program,\n",
    "                                 halting_fitness     = 10.0,\n",
    "                                 max_num_generations = 2000,\n",
    "                                 X                   = train_X,\n",
    "                                 y                   = train_y,\n",
    "                                 display_fun         = tournamentDisplayCallback)\n",
    "    \n",
    "    train_acc = p.accuracy(train_X, train_y)\n",
    "    test_acc  = p.accuracy(test_X, test_y)\n",
    "    \n",
    "    h['train_acc'] = train_acc\n",
    "    h['test_acc']  = test_acc\n",
    "    \n",
    "    programs_05.append(p)\n",
    "    history_05.append(h)\n",
    "    \n",
    "    if train_acc > best_accuracy_05 or best_performer_05 == None:\n",
    "        best_accuracy_05  = train_acc\n",
    "        best_performer_05 = i"
   ]
  },
  {
   "cell_type": "code",
   "execution_count": 13,
   "metadata": {},
   "outputs": [
    {
     "data": {
      "text/plain": [
       "0.9333333333333333"
      ]
     },
     "execution_count": 13,
     "metadata": {},
     "output_type": "execute_result"
    }
   ],
   "source": [
    "history_05[best_performer_05]['train_acc']"
   ]
  },
  {
   "cell_type": "code",
   "execution_count": 14,
   "metadata": {},
   "outputs": [
    {
     "data": {
      "text/plain": [
       "1.0"
      ]
     },
     "execution_count": 14,
     "metadata": {},
     "output_type": "execute_result"
    }
   ],
   "source": [
    "history_05[best_performer_05]['test_acc']"
   ]
  },
  {
   "cell_type": "code",
   "execution_count": 15,
   "metadata": {},
   "outputs": [
    {
     "data": {
      "image/png": "[encoded data removed]",
      "text/plain": [
       "<Figure size 432x288 with 1 Axes>"
      ]
     },
     "metadata": {
      "needs_background": "light"
     },
     "output_type": "display_data"
    }
   ],
   "source": [
    "for i in range(num_runs):\n",
    "    error = history_05[i]['error']\n",
    "    plt.plot(error)\n",
    "plt.xlabel(\"Iterations\")\n",
    "plt.ylabel(\"Error (Unitless)\")\n",
    "plt.show()"
   ]
  },
  {
   "cell_type": "markdown",
   "metadata": {},
   "source": [
    "#### Mutation Rate = 0.1"
   ]
  },
  {
   "cell_type": "code",
   "execution_count": 16,
   "metadata": {},
   "outputs": [],
   "source": [
    "template_program = gp.Program(\n",
    "     max_initial_instructions = 64,\n",
    "     num_registers            = 8,\n",
    "     num_inputs               = 4,\n",
    "     mutation_rate            = 0.1,\n",
    "     max_num_instructions     = 1024,\n",
    "     num_classes              = 3\n",
    ")"
   ]
  },
  {
   "cell_type": "code",
   "execution_count": 17,
   "metadata": {},
   "outputs": [
    {
     "data": {
      "text/plain": [
       "'Round 1999 - Error 20.92841690413417'"
      ]
     },
     "metadata": {},
     "output_type": "display_data"
    }
   ],
   "source": [
    "programs_10       = []\n",
    "history_10        = []\n",
    "best_accuracy_10  = 0.0\n",
    "best_performer_10 = None\n",
    "for i in range(num_runs):\n",
    "    p, h = gp.tournamentSelection(population_size    = 16,\n",
    "                                 template_program    = template_program,\n",
    "                                 halting_fitness     = 10.0,\n",
    "                                 max_num_generations = 2000,\n",
    "                                 X                   = train_X,\n",
    "                                 y                   = train_y,\n",
    "                                 display_fun         = tournamentDisplayCallback)\n",
    "    \n",
    "    train_acc = p.accuracy(train_X, train_y)\n",
    "    test_acc  = p.accuracy(test_X, test_y)\n",
    "    \n",
    "    h['train_acc'] = train_acc\n",
    "    h['test_acc']  = test_acc\n",
    "    \n",
    "    programs_10.append(p)\n",
    "    history_10.append(h)\n",
    "    \n",
    "    if train_acc > best_accuracy_10 or best_performer_10 == None:\n",
    "        best_accuracy_10  = train_acc\n",
    "        best_performer_10 = i"
   ]
  },
  {
   "cell_type": "code",
   "execution_count": 18,
   "metadata": {},
   "outputs": [
    {
     "data": {
      "text/plain": [
       "0.8833333333333333"
      ]
     },
     "execution_count": 18,
     "metadata": {},
     "output_type": "execute_result"
    }
   ],
   "source": [
    "history_10[best_performer_10]['train_acc']"
   ]
  },
  {
   "cell_type": "code",
   "execution_count": 19,
   "metadata": {},
   "outputs": [
    {
     "data": {
      "text/plain": [
       "0.8666666666666667"
      ]
     },
     "execution_count": 19,
     "metadata": {},
     "output_type": "execute_result"
    }
   ],
   "source": [
    "history_10[best_performer_10]['test_acc']"
   ]
  },
  {
   "cell_type": "code",
   "execution_count": 20,
   "metadata": {},
   "outputs": [
    {
     "data": {
      "image/png": "[encoded data removed]",
      "text/plain": [
       "<Figure size 432x288 with 1 Axes>"
      ]
     },
     "metadata": {
      "needs_background": "light"
     },
     "output_type": "display_data"
    }
   ],
   "source": [
    "for i in range(num_runs):\n",
    "    error = history_10[i]['error']\n",
    "    plt.plot(error)\n",
    "plt.xlabel(\"Iterations\")\n",
    "plt.ylabel(\"Error (Unitless)\")\n",
    "plt.show()"
   ]
  },
  {
   "cell_type": "markdown",
   "metadata": {},
   "source": [
    "#### Mutation Rate = 0.15"
   ]
  },
  {
   "cell_type": "code",
   "execution_count": 21,
   "metadata": {},
   "outputs": [],
   "source": [
    "template_program = gp.Program(\n",
    "     max_initial_instructions = 64,\n",
    "     num_registers            = 8,\n",
    "     num_inputs               = 4,\n",
    "     mutation_rate            = 0.15,\n",
    "     max_num_instructions     = 1024,\n",
    "     num_classes              = 3\n",
    ")"
   ]
  },
  {
   "cell_type": "code",
   "execution_count": 22,
   "metadata": {},
   "outputs": [
    {
     "data": {
      "text/plain": [
       "'Round 1651 - Achieved fitness of 7.768247049401183 < 10.0'"
      ]
     },
     "metadata": {},
     "output_type": "display_data"
    }
   ],
   "source": [
    "programs_15       = []\n",
    "history_15        = []\n",
    "best_accuracy_15  = 0.0\n",
    "best_performer_15 = None\n",
    "for i in range(num_runs):\n",
    "    p, h = gp.tournamentSelection(population_size    = 16,\n",
    "                                 template_program    = template_program,\n",
    "                                 halting_fitness     = 10.0,\n",
    "                                 max_num_generations = 2000,\n",
    "                                 X                   = train_X,\n",
    "                                 y                   = train_y,\n",
    "                                 display_fun         = tournamentDisplayCallback)\n",
    "    \n",
    "    train_acc = p.accuracy(train_X, train_y)\n",
    "    test_acc  = p.accuracy(test_X, test_y)\n",
    "    \n",
    "    h['train_acc'] = train_acc\n",
    "    h['test_acc']  = test_acc\n",
    "    \n",
    "    programs_15.append(p)\n",
    "    history_15.append(h)\n",
    "    \n",
    "    if train_acc > best_accuracy_15 or best_performer_15 == None:\n",
    "        best_accuracy_15  = train_acc\n",
    "        best_performer_15 = i"
   ]
  },
  {
   "cell_type": "code",
   "execution_count": 23,
   "metadata": {},
   "outputs": [
    {
     "data": {
      "text/plain": [
       "0.9166666666666666"
      ]
     },
     "execution_count": 23,
     "metadata": {},
     "output_type": "execute_result"
    }
   ],
   "source": [
    "history_15[best_performer_15]['train_acc']"
   ]
  },
  {
   "cell_type": "code",
   "execution_count": 24,
   "metadata": {},
   "outputs": [
    {
     "data": {
      "text/plain": [
       "0.9333333333333333"
      ]
     },
     "execution_count": 24,
     "metadata": {},
     "output_type": "execute_result"
    }
   ],
   "source": [
    "history_15[best_performer_15]['test_acc']"
   ]
  },
  {
   "cell_type": "code",
   "execution_count": 25,
   "metadata": {},
   "outputs": [
    {
     "data": {
      "image/png": "[encoded data removed]",
      "text/plain": [
       "<Figure size 432x288 with 1 Axes>"
      ]
     },
     "metadata": {
      "needs_background": "light"
     },
     "output_type": "display_data"
    }
   ],
   "source": [
    "for i in range(num_runs):\n",
    "    error = history_15[i]['error']\n",
    "    plt.plot(error)\n",
    "plt.xlabel(\"Iterations\")\n",
    "plt.ylabel(\"Error (Unitless)\")\n",
    "plt.show()"
   ]
  },
  {
   "cell_type": "markdown",
   "metadata": {},
   "source": [
    "### Compare Mutation Rates and Convergence"
   ]
  },
  {
   "cell_type": "code",
   "execution_count": 26,
   "metadata": {},
   "outputs": [
    {
     "data": {
      "image/png": "[encoded data removed]",
      "text/plain": [
       "<Figure size 432x288 with 1 Axes>"
      ]
     },
     "metadata": {
      "needs_background": "light"
     },
     "output_type": "display_data"
    }
   ],
   "source": [
    "error_01 = history_01[best_performer_01]['error']\n",
    "error_05 = history_05[best_performer_05]['error']\n",
    "error_10 = history_10[best_performer_10]['error']\n",
    "error_15 = history_15[best_performer_15]['error']\n",
    "\n",
    "plt.plot(error_01)\n",
    "plt.plot(error_05)\n",
    "plt.plot(error_10)\n",
    "plt.plot(error_15)\n",
    "plt.xlabel(\"Iterations\")\n",
    "plt.ylabel(\"Error (Unitless)\")\n",
    "plt.legend([\n",
    "    'Mut. Rate = 0.01',\n",
    "    'Mut. Rate = 0.05',\n",
    "    'Mut. Rate = 0.10',\n",
    "    'Mut. Rate = 0.15'\n",
    "])\n",
    "plt.show()"
   ]
  }
 ],
 "metadata": {
  "kernelspec": {
   "display_name": "Python 3",
   "language": "python",
   "name": "python3"
  },
  "language_info": {
   "codemirror_mode": {
    "name": "ipython",
    "version": 3
   },
   "file_extension": ".py",
   "mimetype": "text/x-python",
   "name": "python",
   "nbconvert_exporter": "python",
   "pygments_lexer": "ipython3",
   "version": "3.6.8"
  }
 },
 "nbformat": 4,
 "nbformat_minor": 2
}
