{
 "cells": [
  {
   "cell_type": "markdown",
   "metadata": {},
   "source": [
    "# Hypothyroid Data Set Classifier - Breeder Model"
   ]
  },
  {
   "cell_type": "code",
   "execution_count": null,
   "metadata": {},
   "outputs": [],
   "source": [
    "from sklearn.model_selection import train_test_split\n",
    "from sklearn.preprocessing import MinMaxScaler\n",
    "from IPython.display import display, clear_output\n",
    "import matplotlib.pyplot as plt\n",
    "import numpy as np\n",
    "%matplotlib inline"
   ]
  },
  {
   "cell_type": "code",
   "execution_count": null,
   "metadata": {},
   "outputs": [],
   "source": [
    "import GeneticProgram as gp\n",
    "from Thyroid import load_thyroid\n",
    "from SamplingPolicies import *"
   ]
  },
  {
   "cell_type": "markdown",
   "metadata": {},
   "source": [
    "### Import Wisconsin Data Set"
   ]
  },
  {
   "cell_type": "code",
   "execution_count": null,
   "metadata": {},
   "outputs": [],
   "source": [
    "# Data set already scaled\n",
    "train_X, train_y, test_X, test_y = load_thyroid()\n",
    "num_inputs  = len(train_X[0])\n",
    "num_classes = np.max(train_y) + 1\n",
    "print(num_inputs)\n",
    "print(num_classes)"
   ]
  },
  {
   "cell_type": "code",
   "execution_count": null,
   "metadata": {},
   "outputs": [],
   "source": [
    "def breederDisplayCallback(string):\n",
    "    clear_output(wait=True)\n",
    "    display(string)"
   ]
  },
  {
   "cell_type": "code",
   "execution_count": null,
   "metadata": {},
   "outputs": [],
   "source": [
    "template_program = gp.Program(\n",
    "     max_initial_instructions = 64,\n",
    "     num_registers            = 8,\n",
    "     num_inputs               = num_inputs,\n",
    "     mutation_rate            = 0.1,\n",
    "     max_num_instructions     = 1024,\n",
    "     num_classes              = num_classes\n",
    ")"
   ]
  },
  {
   "cell_type": "code",
   "execution_count": null,
   "metadata": {},
   "outputs": [],
   "source": [
    "p = gp.breederSelection(p_size                = 150,\n",
    "                        p_gap                 = 100,\n",
    "                        tau                   = len(train_X),\n",
    "                        template_program      = template_program,\n",
    "                        sampling_policy_class = UniformSamplingPolicy,\n",
    "                        halting_fitness       = 1000000,\n",
    "                        max_num_generations   = 5,\n",
    "                        X                     = train_X,\n",
    "                        y                     = train_y,\n",
    "                        display_fun           = breederDisplayCallback)"
   ]
  },
  {
   "cell_type": "code",
   "execution_count": null,
   "metadata": {},
   "outputs": [],
   "source": [
    "p[0].accuracy(train_X, train_y)"
   ]
  },
  {
   "cell_type": "code",
   "execution_count": null,
   "metadata": {},
   "outputs": [],
   "source": [
    "p[0].accuracy(test_X, test_y)"
   ]
  },
  {
   "cell_type": "markdown",
   "metadata": {},
   "source": [
    "### Gap Percent of 30%"
   ]
  },
  {
   "cell_type": "code",
   "execution_count": null,
   "metadata": {},
   "outputs": [],
   "source": [
    "programs_30       = []\n",
    "history_30        = []\n",
    "best_accuracy_30  = 0.0\n",
    "best_performer_30 = None\n",
    "for i in range(3):\n",
    "    p, h = gp.breederSelection(population_size     = 200,\n",
    "                               template_program    = template_program,\n",
    "                               halting_fitness     = 200.0,\n",
    "                               max_num_generations = 200,\n",
    "                               gap_percent         = 0.3,\n",
    "                               X                   = train_X,\n",
    "                               y                   = train_y,\n",
    "                               display_fun         = breederDisplayCallback)\n",
    "    \n",
    "    train_acc = p.accuracy(train_X, train_y)\n",
    "    test_acc  = p.accuracy(test_X, test_y)\n",
    "    \n",
    "    h['train_acc'] = train_acc\n",
    "    h['test_acc']  = test_acc\n",
    "    \n",
    "    programs_30.append(p)\n",
    "    history_30.append(h)\n",
    "    \n",
    "    if train_acc > best_accuracy_30 or best_performer_30 == None:\n",
    "        best_accuracy_30  = train_acc\n",
    "        best_performer_30 = i"
   ]
  },
  {
   "cell_type": "code",
   "execution_count": null,
   "metadata": {},
   "outputs": [],
   "source": [
    "history_30[best_performer_30]['train_acc']"
   ]
  },
  {
   "cell_type": "code",
   "execution_count": null,
   "metadata": {},
   "outputs": [],
   "source": [
    "history_30[best_performer_30]['test_acc']"
   ]
  },
  {
   "cell_type": "code",
   "execution_count": null,
   "metadata": {},
   "outputs": [],
   "source": [
    "for i in range(3):\n",
    "    error = history_30[i]['error']\n",
    "    plt.plot(error)\n",
    "plt.xlabel(\"Generations\")\n",
    "plt.ylabel(\"Error (Unitless)\")\n",
    "plt.title(\"Wisconsin Breeder Gap Percent = 30%\")\n",
    "plt.show()"
   ]
  },
  {
   "cell_type": "markdown",
   "metadata": {},
   "source": [
    "### Gap Percent of 70%"
   ]
  },
  {
   "cell_type": "code",
   "execution_count": null,
   "metadata": {},
   "outputs": [],
   "source": [
    "programs_70       = []\n",
    "history_70        = []\n",
    "best_accuracy_70  = 0.0\n",
    "best_performer_70 = None\n",
    "for i in range(3):\n",
    "    p, h = gp.breederSelection(population_size     = 200,\n",
    "                               template_program    = template_program,\n",
    "                               halting_fitness     = 200.0,\n",
    "                               max_num_generations = 200,\n",
    "                               gap_percent         = 0.7,\n",
    "                               X                   = train_X,\n",
    "                               y                   = train_y,\n",
    "                               display_fun         = breederDisplayCallback)\n",
    "    \n",
    "    train_acc = p.accuracy(train_X, train_y)\n",
    "    test_acc  = p.accuracy(test_X, test_y)\n",
    "    \n",
    "    h['train_acc'] = train_acc\n",
    "    h['test_acc']  = test_acc\n",
    "    \n",
    "    programs_70.append(p)\n",
    "    history_70.append(h)\n",
    "    \n",
    "    if train_acc > best_accuracy_70 or best_performer_70 == None:\n",
    "        best_accuracy_70  = train_acc\n",
    "        best_performer_70 = i"
   ]
  },
  {
   "cell_type": "code",
   "execution_count": null,
   "metadata": {},
   "outputs": [],
   "source": [
    "history_70[best_performer_70]['train_acc']"
   ]
  },
  {
   "cell_type": "code",
   "execution_count": null,
   "metadata": {},
   "outputs": [],
   "source": [
    "history_70[best_performer_70]['test_acc']"
   ]
  },
  {
   "cell_type": "code",
   "execution_count": null,
   "metadata": {},
   "outputs": [],
   "source": [
    "for i in range(3):\n",
    "    error = history_70[i]['error']\n",
    "    plt.plot(error)\n",
    "plt.xlabel(\"Generations\")\n",
    "plt.ylabel(\"Error (Unitless)\")\n",
    "plt.title(\"Wisconsin Breeder Gap Percent = 70%\")\n",
    "plt.show()"
   ]
  },
  {
   "cell_type": "markdown",
   "metadata": {},
   "source": [
    "### Compare Gap Percent on Convergence"
   ]
  },
  {
   "cell_type": "code",
   "execution_count": null,
   "metadata": {},
   "outputs": [],
   "source": [
    "error_30 = history_30[best_performer_30]['error']\n",
    "error_70 = history_70[best_performer_70]['error']\n",
    "\n",
    "plt.plot(error_30)\n",
    "plt.plot(error_70)\n",
    "plt.xlabel(\"Generations\")\n",
    "plt.ylabel(\"Error (Unitless)\")\n",
    "plt.legend([\n",
    "    'Gap = 30%',\n",
    "    'Gap = 70%'\n",
    "])\n",
    "plt.title(\"Wisconsin Breeder Convergence Behaviour\")\n",
    "plt.show()"
   ]
  },
  {
   "cell_type": "code",
   "execution_count": null,
   "metadata": {},
   "outputs": [],
   "source": []
  }
 ],
 "metadata": {
  "kernelspec": {
   "display_name": "Python 3",
   "language": "python",
   "name": "python3"
  },
  "language_info": {
   "codemirror_mode": {
    "name": "ipython",
    "version": 3
   },
   "file_extension": ".py",
   "mimetype": "text/x-python",
   "name": "python",
   "nbconvert_exporter": "python",
   "pygments_lexer": "ipython3",
   "version": "3.6.8"
  }
 },
 "nbformat": 4,
 "nbformat_minor": 2
}
